{
 "cells": [
  {
   "cell_type": "code",
   "execution_count": 1,
   "metadata": {
    "collapsed": true
   },
   "outputs": [],
   "source": [
    "import matplotlib as plt\n",
    "%matplotlib inline\n",
    "import pandas as pd\n",
    "from bs4 import BeautifulSoup\n",
    "import urllib2, requests"
   ]
  },
  {
   "cell_type": "code",
   "execution_count": 2,
   "metadata": {
    "collapsed": false
   },
   "outputs": [],
   "source": [
    "def extract_text(el):\n",
    "    if el:\n",
    "        return el.text.strip()\n",
    "    else:\n",
    "        return ''      \n",
    "\n",
    "def get_price_from_result(result):\n",
    "    return extract_text(result.find('div', {'class' : 'price'}))\n",
    "\n",
    "def get__vechile_from_result(result):\n",
    "    return extract_text(result.find('div', {'class' : 'vehicle-features'}))\n",
    "\n",
    "def get_make_from_result(result):\n",
    "    return extract_text(result.find('div', {'class' : 'n_width-max title '}))\n",
    "\n",
    "#def get_title_from_result(result):\n",
    "    return result.find('a', {'data-tn-element' : 'jobTitle'}).text.strip()\n",
    "\n",
    "#def get_salary_from_result(result):\n",
    "    #salary_table = result.find('td', {'class' : 'snip'})\n",
    "    #if salary_table:\n",
    "       # snip = salary_table.find('nobr')\n",
    "       # if snip:\n",
    "          #  return snip.text.strip()\n",
    "\n",
    "    return None\n"
   ]
  },
  {
   "cell_type": "code",
   "execution_count": null,
   "metadata": {
    "collapsed": true
   },
   "outputs": [],
   "source": [
    "http://www.carsales.com.au/cars/results?q=%28And.Service.Carsales._.State.New%20South%20Wales._.FuelEconomy.4L%2F100km%20or%20less.%29&WT.z_srchsrcx=makemodel"
   ]
  },
  {
   "cell_type": "code",
   "execution_count": 3,
   "metadata": {
    "collapsed": false
   },
   "outputs": [
    {
     "name": "stderr",
     "output_type": "stream",
     "text": [
      "C:\\Users\\voyo\\Anaconda2\\lib\\site-packages\\bs4\\__init__.py:166: UserWarning: No parser was explicitly specified, so I'm using the best available HTML parser for this system (\"lxml\"). This usually isn't a problem, but if you run this code on another system, or in a different virtual environment, it may use a different parser and behave differently.\n",
      "\n",
      "To get rid of this warning, change this:\n",
      "\n",
      " BeautifulSoup([your markup])\n",
      "\n",
      "to this:\n",
      "\n",
      " BeautifulSoup([your markup], \"lxml\")\n",
      "\n",
      "  markup_type=markup_type))\n"
     ]
    }
   ],
   "source": [
    "url_template = \"http://www.carsales.com.au/car/{}/?WT.z_srchsrcx=makemodel\"\n",
    "max_results_per_state = 1 # Set this to a high-value (5000) to generate more results. \n",
    "\n",
    "# Crawling more results, will also take much longer. First test your code on a small number of results and then expand.\n",
    "\n",
    "#city = elem.find('span', attrs={'itemprop':'addressLocality'}).getText()\n",
    "\n",
    "rows = []\n",
    "for state in set([ 'act-state', 'new-south-wales-state', 'northern-territory-state', 'queensland-state', 'western-australia-state', 'victoria-state', 'tasmania-state', 'south-australia-state', ]):\n",
    "    for start in range(1): \n",
    "        r = requests.get(url_template.format(state, start))\n",
    "        soup = BeautifulSoup(r.content) \n",
    "        results = soup.findAll('div', { \"class\" : \"listing-item n_margin-20 showcase \" })\n",
    "        for result in results:\n",
    "            if result:\n",
    "                row = {}\n",
    "                row['make'] = get_make_from_result(result)\n",
    "                row['price'] = get_price_from_result(result)\n",
    "                row['vechile features'] =get__vechile_from_result(result)\n",
    "                row['location'] = state\n",
    "                rows.append(row)\n",
    "        \n",
    "#        r = requests.get(url_template.format(state, start))\n",
    "#        soup = BeautifulSoup(r.content) \n",
    "#        results = soup.findAll('a', { \"class\" : \"distance-from-me ng-binding\" })\n",
    "#        for result in results:\n",
    "#            if result:\n",
    "#                row = {}\n",
    "#                row['make'] = get_make_from_result(result)\n",
    "#                row['price'] = get_price_from_result(result)\n",
    "#                row['vechile features'] =get__vechile_from_result(result)\n",
    "#                row['location'] = state\n",
    "#                rows.append(row)\n",
    "                \n",
    "#http://www.carsales.com.au/cars/results?q=%28And.Service.Carsales._.FuelEconomy.{}.%29&WT.z_srchsrcx=makemodel\n"
   ]
  },
  {
   "cell_type": "code",
   "execution_count": 12,
   "metadata": {
    "collapsed": false
   },
   "outputs": [
    {
     "data": {
      "text/plain": [
       "u'Odometer\\n108,600 km\\n\\n\\nBody\\nSUV\\n\\n\\nTransmission\\nAutomatic\\n\\n\\nEngine\\n6cyl 3.0L Turbo Diesel'"
      ]
     },
     "execution_count": 12,
     "metadata": {},
     "output_type": "execute_result"
    }
   ],
   "source": [
    "result = pd.DataFrame.from_records(rows)   # create a new data frame\n",
    "result['vechile features'][0]"
   ]
  },
  {
   "cell_type": "code",
   "execution_count": 7,
   "metadata": {
    "collapsed": false
   },
   "outputs": [],
   "source": [
    "year = pd.DataFrame(result['make'].str.split(\" \").tolist())\n",
    "price = pd.DataFrame(result['price'].str.split(\"$\").tolist())\n"
   ]
  },
  {
   "cell_type": "code",
   "execution_count": null,
   "metadata": {
    "collapsed": false
   },
   "outputs": [],
   "source": [
    "\n",
    "\n"
   ]
  },
  {
   "cell_type": "code",
   "execution_count": null,
   "metadata": {
    "collapsed": true
   },
   "outputs": [],
   "source": []
  }
 ],
 "metadata": {
  "kernelspec": {
   "display_name": "Python [Root]",
   "language": "python",
   "name": "Python [Root]"
  },
  "language_info": {
   "codemirror_mode": {
    "name": "ipython",
    "version": 2
   },
   "file_extension": ".py",
   "mimetype": "text/x-python",
   "name": "python",
   "nbconvert_exporter": "python",
   "pygments_lexer": "ipython2",
   "version": "2.7.12"
  }
 },
 "nbformat": 4,
 "nbformat_minor": 0
}
