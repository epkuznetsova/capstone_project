{
 "cells": [
  {
   "cell_type": "code",
   "execution_count": 1,
   "metadata": {
    "collapsed": true
   },
   "outputs": [],
   "source": [
    "import math"
   ]
  },
  {
   "cell_type": "code",
   "execution_count": 2,
   "metadata": {
    "collapsed": false
   },
   "outputs": [
    {
     "name": "stdout",
     "output_type": "stream",
     "text": [
      "A circle with radius 1 has area 3.14\n",
      "A circle with radius 3 has area 28.27\n",
      "A circle with radius 5 has area 78.54\n",
      "A circle with radius 7 has area 153.94\n",
      "A circle with radius 9 has area 254.47\n"
     ]
    }
   ],
   "source": [
    "class Circle:\n",
    "    def __init__ (self, radius):\n",
    "        self.radius = radius #store the parameter in a class variable\n",
    "        \n",
    "    def get_area(self):\n",
    "        return math.pi\\\n",
    "               *self.radius \\\n",
    "               *self.radius\n",
    "for i in range(1,10):\n",
    "    if (i & 1) == 0:\n",
    "        continue\n",
    "    circle = Circle(i)\n",
    "    print(\"A circle with radius {0} has area {1:0.2f}\".format(\n",
    "        i, circle.get_area()\n",
    "        ))\n",
    "    "
   ]
  },
  {
   "cell_type": "markdown",
   "metadata": {},
   "source": [
    "## Example 2"
   ]
  },
  {
   "cell_type": "code",
   "execution_count": 3,
   "metadata": {
    "collapsed": true
   },
   "outputs": [],
   "source": [
    "geneSet = \" abcdefghijklmnopqrstuvwxyzABCDEFGHIJKLMNOPQRSTVWXYZ!.\"\n",
    "target = \"Hello World!\""
   ]
  },
  {
   "cell_type": "markdown",
   "metadata": {},
   "source": [
    "Generate a guess. \n",
    "\n",
    "Next the algorithm needs a way to generate a random string from the gene set"
   ]
  },
  {
   "cell_type": "code",
   "execution_count": 5,
   "metadata": {
    "collapsed": true
   },
   "outputs": [],
   "source": [
    "import random\n",
    "\n",
    "def generate_parent(length):\n",
    "    genes = []\n",
    "    while len(genes)< length:\n",
    "        sampleSize = min(length - len(genes), len(geneSet))\n",
    "        genes.extend(random.sample(geneSet, sampleSize))\n",
    "    return \" \".join(genes)"
   ]
  },
  {
   "cell_type": "markdown",
   "metadata": {},
   "source": [
    "#### Fitness"
   ]
  },
  {
   "cell_type": "markdown",
   "metadata": {},
   "source": [
    "The fitness value in the genetic algorithm provides the only feedback the engine gets to guide it toward a solution. \n",
    "In this project the fitness value is the total number of letters in the guess that match the letter in the same position of the password"
   ]
  },
  {
   "cell_type": "code",
   "execution_count": 7,
   "metadata": {
    "collapsed": true
   },
   "outputs": [],
   "source": [
    "def get_fitness(guess):\n",
    "    return sum(1 for expected, actual in zip(target,guess)\n",
    "              if expected == actual)"
   ]
  },
  {
   "cell_type": "markdown",
   "metadata": {},
   "source": [
    "#### Mutate"
   ]
  },
  {
   "cell_type": "code",
   "execution_count": 8,
   "metadata": {
    "collapsed": true
   },
   "outputs": [],
   "source": [
    "def mutate(parent):\n",
    "    index = random.randrange(0, len(parent))\n",
    "    childGenes = list(parent)\n",
    "    newGene, alternate = random.sample(geneSet, 2)\n",
    "    childGenes[index]=alternate\\\n",
    "       if newGene == childGenes[index]\\\n",
    "        else newGene\n",
    "    return \" \".join(childGenes)"
   ]
  },
  {
   "cell_type": "markdown",
   "metadata": {},
   "source": [
    "#### Display"
   ]
  },
  {
   "cell_type": "code",
   "execution_count": 9,
   "metadata": {
    "collapsed": true
   },
   "outputs": [],
   "source": [
    "import datetime\n",
    "...\n",
    "def dispaly(guess):\n",
    "    timeDiff = datetime.datetime.now() - startTime\n",
    "    fitness = get_fitness(guess)\n",
    "    print(\"{0}\\t{1}\\t{2}\".format(guess, fitness, str(timeDiff)))"
   ]
  },
  {
   "cell_type": "markdown",
   "metadata": {},
   "source": [
    "#### Main"
   ]
  },
  {
   "cell_type": "code",
   "execution_count": 15,
   "metadata": {
    "collapsed": false
   },
   "outputs": [
    {
     "name": "stdout",
     "output_type": "stream",
     "text": [
      "M l s N u F n A r X Q i\t2\t0:00:00.001000\n"
     ]
    }
   ],
   "source": [
    "random.seed()\n",
    "startTime = datetime.datetime.now()\n",
    "bestParent = generate_parent(len(target))\n",
    "bestFitness = get_fitness(bestParent)\n",
    "dispaly(bestParent)\n",
    "\n"
   ]
  },
  {
   "cell_type": "code",
   "execution_count": 1,
   "metadata": {
    "collapsed": false
   },
   "outputs": [
    {
     "name": "stdout",
     "output_type": "stream",
     "text": [
      "WniegRVEvsmZ\t0\t0:00:00.001000\n",
      "WniegRVEvlmZ\t1\t0:00:00.007000\n",
      "WnlegRVEvlmZ\t2\t0:00:00.013000\n",
      "WnllgRVEvlmZ\t3\t0:00:00.014000\n",
      "WnllgRVEvldZ\t4\t0:00:00.014000\n",
      "WellgRVEvldZ\t5\t0:00:00.020000\n",
      "WellgRWEvldZ\t6\t0:00:00.038000\n",
      "Wellg WEvldZ\t7\t0:00:00.045000\n",
      "Wello WEvldZ\t8\t0:00:00.045000\n",
      "Wello WErldZ\t9\t0:00:00.055000\n",
      "Wello WErld!\t10\t0:00:00.060000\n",
      "Hello WErld!\t11\t0:00:00.063000\n",
      "Hello World!\t12\t0:00:00.392000\n"
     ]
    }
   ],
   "source": [
    "import random\n",
    "import datetime\n",
    "\n",
    "\n",
    "def get_fitness(guess):\n",
    "    return sum(1 for expected, actual in zip(target, guess)\n",
    "               if expected == actual)\n",
    "\n",
    "\n",
    "def display(guess):\n",
    "    timeDiff = datetime.datetime.now() - startTime\n",
    "    fitness = get_fitness(guess)\n",
    "    print(\"{0}\\t{1}\\t{2}\".format(guess, fitness, str(timeDiff)))\n",
    "\n",
    "\n",
    "def generate_parent(length):\n",
    "    genes = []\n",
    "    while len(genes) < length:\n",
    "        sampleSize = min(length - len(genes), len(geneSet))\n",
    "        genes.extend(random.sample(geneSet, sampleSize))\n",
    "    return ''.join(genes)\n",
    "\n",
    "\n",
    "def mutate(parent):\n",
    "    index = random.randrange(0, len(parent))\n",
    "    childGenes = list(parent)\n",
    "    newGene, alternate = random.sample(geneSet, 2)\n",
    "    childGenes[index] = alternate \\\n",
    "        if newGene == childGenes[index] \\\n",
    "        else newGene\n",
    "    return ''.join(childGenes)\n",
    "\n",
    "\n",
    "random.seed()\n",
    "geneSet = \" abcdefghijklmnopqrstuvwxyzABCDEFGHIJKLMNOPQRSTUVWXYZ!.\"\n",
    "target = \"Hello World!\"\n",
    "startTime = datetime.datetime.now()\n",
    "bestParent = generate_parent(len(target))\n",
    "bestFitness = get_fitness(bestParent)\n",
    "display(bestParent)\n",
    "\n",
    "\n",
    "while True:\n",
    "    child = mutate(bestParent)\n",
    "    childFitness = get_fitness(child)\n",
    "\n",
    "    if bestFitness >= childFitness:\n",
    "        continue\n",
    "    display(child)\n",
    "    if childFitness >= len(bestParent):\n",
    "        break\n",
    "    bestFitness = childFitness\n",
    "    bestParent = child"
   ]
  },
  {
   "cell_type": "code",
   "execution_count": 2,
   "metadata": {
    "collapsed": false,
    "scrolled": true
   },
   "outputs": [
    {
     "name": "stdout",
     "output_type": "stream",
     "text": [
      "Collecting genetic\n",
      "  Downloading genetic-0.1.dev3.tar.gz\n",
      "    Complete output from command python setup.py egg_info:\n",
      "    Traceback (most recent call last):\n",
      "      File \"<string>\", line 1, in <module>\n",
      "      File \"c:\\users\\voyo\\appdata\\local\\temp\\pip-build-urhxpt\\genetic\\setup.py\", line 39, in <module>\n",
      "        packages=find_packages(\"./\"),\n",
      "      File \"C:\\Users\\voyo\\Anaconda2\\lib\\site-packages\\setuptools-27.2.0-py2.7.egg\\setuptools\\__init__.py\", line 54, in find\n",
      "      File \"C:\\Users\\voyo\\Anaconda2\\lib\\distutils\\util.py\", line 126, in convert_path\n",
      "        raise ValueError, \"path '%s' cannot end with '/'\" % pathname\n",
      "    ValueError: path './' cannot end with '/'\n",
      "    \n",
      "    ----------------------------------------\n"
     ]
    },
    {
     "name": "stderr",
     "output_type": "stream",
     "text": [
      "Command \"python setup.py egg_info\" failed with error code 1 in c:\\users\\voyo\\appdata\\local\\temp\\pip-build-urhxpt\\genetic\\\n"
     ]
    }
   ],
   "source": [
    "!pip install genetic"
   ]
  },
  {
   "cell_type": "code",
   "execution_count": 1,
   "metadata": {
    "collapsed": false
   },
   "outputs": [
    {
     "ename": "ImportError",
     "evalue": "No module named genetic",
     "output_type": "error",
     "traceback": [
      "\u001b[1;31m---------------------------------------------------------------------------\u001b[0m",
      "\u001b[1;31mImportError\u001b[0m                               Traceback (most recent call last)",
      "\u001b[1;32m<ipython-input-1-6d62ec44b1cd>\u001b[0m in \u001b[0;36m<module>\u001b[1;34m()\u001b[0m\n\u001b[0;32m     20\u001b[0m \u001b[1;32mimport\u001b[0m \u001b[0munittest\u001b[0m\u001b[1;33m\u001b[0m\u001b[0m\n\u001b[0;32m     21\u001b[0m \u001b[1;32mimport\u001b[0m \u001b[0mdatetime\u001b[0m\u001b[1;33m\u001b[0m\u001b[0m\n\u001b[1;32m---> 22\u001b[1;33m \u001b[1;32mimport\u001b[0m \u001b[0mgenetic\u001b[0m\u001b[1;33m\u001b[0m\u001b[0m\n\u001b[0m\u001b[0;32m     23\u001b[0m \u001b[1;33m\u001b[0m\u001b[0m\n\u001b[0;32m     24\u001b[0m \u001b[1;33m\u001b[0m\u001b[0m\n",
      "\u001b[1;31mImportError\u001b[0m: No module named genetic"
     ]
    }
   ],
   "source": [
    "# File: sortedNumbersTests.py\n",
    "#    from chapter 3 of _Genetic Algorithms with Python_, an ebook\n",
    "#    available for purchase at http://leanpub.com/genetic_algorithms_with_python\n",
    "#\n",
    "# Author: Clinton Sheppard <fluentcoder@gmail.com>\n",
    "# Copyright (c) 2016 Clinton Sheppard\n",
    "#\n",
    "# Licensed under the Apache License, Version 2.0 (the \"License\").\n",
    "# You may not use this file except in compliance with the License.\n",
    "# You may obtain a copy of the License at\n",
    "#   http://www.apache.org/licenses/LICENSE-2.0\n",
    "#\n",
    "# Unless required by applicable law or agreed to in writing, software\n",
    "# distributed under the License is distributed on an \"AS IS\" BASIS,\n",
    "# WITHOUT WARRANTIES OR CONDITIONS OF ANY KIND, either express or\n",
    "# implied.  See the License for the specific language governing\n",
    "# permissions and limitations under the License.\n",
    "\n",
    "\n",
    "import unittest\n",
    "import datetime\n",
    "import genetic\n",
    "\n",
    "\n",
    "def get_fitness(genes):\n",
    "    fitness = 1\n",
    "    gap = 0\n",
    "\n",
    "    for i in range(1, len(genes)):\n",
    "        if genes[i] > genes[i - 1]:\n",
    "            fitness += 1\n",
    "        else:\n",
    "            gap += genes[i - 1] - genes[i]\n",
    "    return Fitness(fitness, gap)\n",
    "\n",
    "\n",
    "def display(candidate, startTime):\n",
    "    timeDiff = datetime.datetime.now() - startTime\n",
    "    print(\"{0}\\t=> {1}\\t{2}\".format(\n",
    "        ', '.join(map(str, candidate.Genes)),\n",
    "        candidate.Fitness,\n",
    "        str(timeDiff)))\n",
    "\n",
    "\n",
    "class SortedNumbersTests(unittest.TestCase):\n",
    "    def test_sort_10_numbers(self):\n",
    "        self.sort_numbers(10)\n",
    "\n",
    "    def sort_numbers(self, totalNumbers):\n",
    "        geneset = [i for i in range(100)]\n",
    "        startTime = datetime.datetime.now()\n",
    "\n",
    "        def fnDisplay(candidate):\n",
    "            display(candidate, startTime)\n",
    "\n",
    "        def fnGetFitness(genes):\n",
    "            return get_fitness(genes)\n",
    "\n",
    "        optimalFitness = Fitness(totalNumbers, 0)\n",
    "        best = genetic.get_best(fnGetFitness, totalNumbers,\n",
    "                                optimalFitness, geneset, fnDisplay)\n",
    "        self.assertTrue(not optimalFitness > best.Fitness)\n",
    "\n",
    "    def test_benchmark(self):\n",
    "        genetic.Benchmark.run(lambda: self.sort_numbers(40))\n",
    "\n",
    "\n",
    "class Fitness:\n",
    "    NumbersInSequenceCount = None\n",
    "    TotalGap = None\n",
    "\n",
    "    def __init__(self, numbersInSequenceCount, totalGap):\n",
    "        self.NumbersInSequenceCount = numbersInSequenceCount\n",
    "        self.TotalGap = totalGap\n",
    "\n",
    "    def __gt__(self, other):\n",
    "        if self.NumbersInSequenceCount != other.NumbersInSequenceCount:\n",
    "            return self.NumbersInSequenceCount > other.NumbersInSequenceCount\n",
    "        return self.TotalGap < other.TotalGap\n",
    "\n",
    "    def __str__(self):\n",
    "        return \"{0} Sequential, {1} Total Gap\".format(\n",
    "            self.NumbersInSequenceCount,\n",
    "            self.TotalGap)\n",
    "\n",
    "if __name__ == '__main__':\n",
    "    unittest.main()\n",
    "\n",
    "\n",
    "sortedNumbersTests.py\n",
    "\n",
    "\n"
   ]
  },
  {
   "cell_type": "code",
   "execution_count": null,
   "metadata": {
    "collapsed": true
   },
   "outputs": [],
   "source": []
  },
  {
   "cell_type": "code",
   "execution_count": null,
   "metadata": {
    "collapsed": true
   },
   "outputs": [],
   "source": []
  }
 ],
 "metadata": {
  "anaconda-cloud": {},
  "kernelspec": {
   "display_name": "Python [Root]",
   "language": "python",
   "name": "Python [Root]"
  },
  "language_info": {
   "codemirror_mode": {
    "name": "ipython",
    "version": 2
   },
   "file_extension": ".py",
   "mimetype": "text/x-python",
   "name": "python",
   "nbconvert_exporter": "python",
   "pygments_lexer": "ipython2",
   "version": "2.7.12"
  }
 },
 "nbformat": 4,
 "nbformat_minor": 0
}
